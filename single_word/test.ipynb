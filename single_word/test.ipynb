{
 "cells": [
  {
   "cell_type": "code",
   "execution_count": null,
   "metadata": {},
   "outputs": [],
   "source": []
  },
  {
   "cell_type": "code",
   "execution_count": 4,
   "metadata": {},
   "outputs": [
    {
     "name": "stdout",
     "output_type": "stream",
     "text": [
      "File exists, audio config created.\n"
     ]
    }
   ],
   "source": [
    "import os\n",
    "import azure.cognitiveservices.speech as speechsdk\n",
    "\n",
    "filename = \"Recording.wav\"\n",
    "\n",
    "if os.path.exists(filename):\n",
    "    audio_config = speechsdk.audio.AudioConfig(filename=filename)\n",
    "    print(\"File exists, audio config created.\")\n",
    "else:\n",
    "    print(f\"File {filename} does not exist.\")\n"
   ]
  },
  {
   "cell_type": "code",
   "execution_count": 9,
   "metadata": {},
   "outputs": [
    {
     "name": "stdout",
     "output_type": "stream",
     "text": [
      "SESSION ID: 8fc93a5d2ae84c239f033b91218d2b4e\n",
      "{\"Id\":\"9400148cafd048b3b848bfed26416f2c\",\"RecognitionStatus\":\"Success\",\"Offset\":7300000,\"Duration\":14400000,\"Channel\":0,\"DisplayText\":\"Wake up to reality.\",\"SNR\":11.096913,\"NBest\":[{\"Confidence\":0.95880204,\"Lexical\":\"wake up to reality\",\"ITN\":\"wake up to reality\",\"MaskedITN\":\"wake up to reality\",\"Display\":\"Wake up to reality.\",\"PronunciationAssessment\":{\"AccuracyScore\":99.0,\"FluencyScore\":100.0,\"ProsodyScore\":77.7,\"CompletenessScore\":100.0,\"PronScore\":90.9},\"Words\":[{\"Word\":\"wake\",\"Offset\":7300000,\"Duration\":4400000,\"PronunciationAssessment\":{\"AccuracyScore\":98.0,\"ErrorType\":\"None\",\"Feedback\":{\"Prosody\":{\"Break\":{\"ErrorTypes\":[\"None\"],\"BreakLength\":0},\"Intonation\":{\"ErrorTypes\":[\"Monotone\"],\"Monotone\":{\"SyllablePitchDeltaConfidence\":0.15588349}}}}},\"Syllables\":[{\"Syllable\":\"weyk\",\"Grapheme\":\"wake\",\"PronunciationAssessment\":{\"AccuracyScore\":88.0},\"Offset\":7300000,\"Duration\":4400000}],\"Phonemes\":[{\"Phoneme\":\"w\",\"PronunciationAssessment\":{\"AccuracyScore\":76.0},\"Offset\":7300000,\"Duration\":2000000},{\"Phoneme\":\"ey\",\"PronunciationAssessment\":{\"AccuracyScore\":100.0},\"Offset\":9400000,\"Duration\":1300000},{\"Phoneme\":\"k\",\"PronunciationAssessment\":{\"AccuracyScore\":95.0},\"Offset\":10800000,\"Duration\":900000}]},{\"Word\":\"up\",\"Offset\":11800000,\"Duration\":1700000,\"PronunciationAssessment\":{\"AccuracyScore\":100.0,\"ErrorType\":\"None\",\"Feedback\":{\"Prosody\":{\"Break\":{\"ErrorTypes\":[\"None\"],\"UnexpectedBreak\":{\"Confidence\":4.827586E-08},\"MissingBreak\":{\"Confidence\":1.0},\"BreakLength\":0},\"Intonation\":{\"ErrorTypes\":[\"Monotone\"],\"Monotone\":{\"SyllablePitchDeltaConfidence\":0.15588349}}}}},\"Syllables\":[{\"Syllable\":\"ahp\",\"Grapheme\":\"up\",\"PronunciationAssessment\":{\"AccuracyScore\":100.0},\"Offset\":11800000,\"Duration\":1700000}],\"Phonemes\":[{\"Phoneme\":\"ah\",\"PronunciationAssessment\":{\"AccuracyScore\":100.0},\"Offset\":11800000,\"Duration\":600000},{\"Phoneme\":\"p\",\"PronunciationAssessment\":{\"AccuracyScore\":100.0},\"Offset\":12500000,\"Duration\":1000000}]},{\"Word\":\"to\",\"Offset\":13600000,\"Duration\":1700000,\"PronunciationAssessment\":{\"AccuracyScore\":100.0,\"ErrorType\":\"None\",\"Feedback\":{\"Prosody\":{\"Break\":{\"ErrorTypes\":[\"None\"],\"UnexpectedBreak\":{\"Confidence\":4.827586E-08},\"MissingBreak\":{\"Confidence\":1.0},\"BreakLength\":0},\"Intonation\":{\"ErrorTypes\":[\"Monotone\"],\"Monotone\":{\"SyllablePitchDeltaConfidence\":0.15588349}}}}},\"Syllables\":[{\"Syllable\":\"tuw\",\"Grapheme\":\"to\",\"PronunciationAssessment\":{\"AccuracyScore\":100.0},\"Offset\":13600000,\"Duration\":1700000}],\"Phonemes\":[{\"Phoneme\":\"t\",\"PronunciationAssessment\":{\"AccuracyScore\":100.0},\"Offset\":13600000,\"Duration\":500000},{\"Phoneme\":\"uw\",\"PronunciationAssessment\":{\"AccuracyScore\":100.0},\"Offset\":14200000,\"Duration\":1100000}]},{\"Word\":\"reality\",\"Offset\":15400000,\"Duration\":6300000,\"PronunciationAssessment\":{\"AccuracyScore\":98.0,\"ErrorType\":\"None\",\"Feedback\":{\"Prosody\":{\"Break\":{\"ErrorTypes\":[\"None\"],\"UnexpectedBreak\":{\"Confidence\":4.827586E-08},\"MissingBreak\":{\"Confidence\":1.0},\"BreakLength\":0},\"Intonation\":{\"ErrorTypes\":[\"Monotone\"],\"Monotone\":{\"SyllablePitchDeltaConfidence\":0.15588349}}}}},\"Syllables\":[{\"Syllable\":\"riy\",\"Grapheme\":\"re\",\"PronunciationAssessment\":{\"AccuracyScore\":100.0},\"Offset\":15400000,\"Duration\":800000},{\"Syllable\":\"ae\",\"Grapheme\":\"al\",\"PronunciationAssessment\":{\"AccuracyScore\":100.0},\"Offset\":16300000,\"Duration\":600000},{\"Syllable\":\"lih\",\"Grapheme\":\"i\",\"PronunciationAssessment\":{\"AccuracyScore\":97.0},\"Offset\":17000000,\"Duration\":1300000},{\"Syllable\":\"tiy\",\"Grapheme\":\"ty\",\"PronunciationAssessment\":{\"AccuracyScore\":79.0},\"Offset\":18400000,\"Duration\":3300000}],\"Phonemes\":[{\"Phoneme\":\"r\",\"PronunciationAssessment\":{\"AccuracyScore\":100.0},\"Offset\":15400000,\"Duration\":400000},{\"Phoneme\":\"iy\",\"PronunciationAssessment\":{\"AccuracyScore\":100.0},\"Offset\":15900000,\"Duration\":300000},{\"Phoneme\":\"ae\",\"PronunciationAssessment\":{\"AccuracyScore\":100.0},\"Offset\":16300000,\"Duration\":600000},{\"Phoneme\":\"l\",\"PronunciationAssessment\":{\"AccuracyScore\":100.0},\"Offset\":17000000,\"Duration\":500000},{\"Phoneme\":\"ih\",\"PronunciationAssessment\":{\"AccuracyScore\":94.0},\"Offset\":17600000,\"Duration\":700000},{\"Phoneme\":\"t\",\"PronunciationAssessment\":{\"AccuracyScore\":100.0},\"Offset\":18400000,\"Duration\":1100000},{\"Phoneme\":\"iy\",\"PronunciationAssessment\":{\"AccuracyScore\":67.0},\"Offset\":19600000,\"Duration\":2100000}]}]}]}\n"
     ]
    }
   ],
   "source": [
    "import azure.cognitiveservices.speech as speechsdk\n",
    "import os\n",
    "from dotenv import load_dotenv \n",
    "\n",
    "load_dotenv()\n",
    "\n",
    "subscription_key = os.getenv('SUBSCRIPTION_KEY')\n",
    "region = \"southeastasia\"\n",
    "\n",
    "speech_config = speechsdk.SpeechConfig(subscription=subscription_key, region=region)\n",
    "    # provide a WAV file as an example. Replace it with your own.\n",
    "audio_config = speechsdk.audio.AudioConfig(filename=\"Converted.wav\")\n",
    "\n",
    "enable_miscue = True\n",
    "enable_prosody_assessment = True\n",
    "pronunciation_config = speechsdk.PronunciationAssessmentConfig(\n",
    "    reference_text=\"wake up to reality\",\n",
    "    grading_system=speechsdk.PronunciationAssessmentGradingSystem.HundredMark,\n",
    "    granularity=speechsdk.PronunciationAssessmentGranularity.Phoneme,\n",
    "    enable_miscue=enable_miscue)\n",
    "if enable_prosody_assessment:\n",
    "    pronunciation_config.enable_prosody_assessment()\n",
    "\n",
    "language = 'en-US'\n",
    "speech_recognizer = speechsdk.SpeechRecognizer(speech_config=speech_config, language=language, audio_config=audio_config)\n",
    "\n",
    "speech_recognizer.session_started.connect(lambda evt: print(f\"SESSION ID: {evt.session_id}\"))\n",
    "pronunciation_config.apply_to(speech_recognizer)\n",
    "speech_recognition_result = speech_recognizer.recognize_once()\n",
    "\n",
    "\n",
    "pronunciation_assessment_result_json = speech_recognition_result.properties.get(speechsdk.PropertyId.SpeechServiceResponse_JsonResult)\n",
    "print(pronunciation_assessment_result_json)\n"
   ]
  },
  {
   "cell_type": "code",
   "execution_count": null,
   "metadata": {},
   "outputs": [],
   "source": [
    "# ffmpeg -i Recording.wav -ar 16000 -ac 1 -c:a pcm_s16le Converted.wav\n"
   ]
  }
 ],
 "metadata": {
  "kernelspec": {
   "display_name": "Python 3",
   "language": "python",
   "name": "python3"
  },
  "language_info": {
   "codemirror_mode": {
    "name": "ipython",
    "version": 3
   },
   "file_extension": ".py",
   "mimetype": "text/x-python",
   "name": "python",
   "nbconvert_exporter": "python",
   "pygments_lexer": "ipython3",
   "version": "3.10.11"
  }
 },
 "nbformat": 4,
 "nbformat_minor": 2
}
